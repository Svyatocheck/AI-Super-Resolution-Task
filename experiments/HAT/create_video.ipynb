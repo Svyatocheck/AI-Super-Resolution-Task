{
 "cells": [
  {
   "cell_type": "code",
   "execution_count": 1,
   "id": "e1a1f236",
   "metadata": {},
   "outputs": [],
   "source": [
    "import cv2\n",
    "import glob\n",
    "import os\n",
    "import matplotlib.pyplot as plt\n",
    "from tqdm import tqdm"
   ]
  },
  {
   "cell_type": "code",
   "execution_count": 2,
   "id": "0f40403a",
   "metadata": {},
   "outputs": [],
   "source": [
    "image_folder = '/sr_project/HAT/results/HAT_SRx4_ImageNet-LR/visualization/custom'\n"
   ]
  },
  {
   "cell_type": "code",
   "execution_count": 3,
   "id": "4ab11a59",
   "metadata": {},
   "outputs": [
    {
     "data": {
      "text/plain": [
       "(576, 856, 3)"
      ]
     },
     "execution_count": 3,
     "metadata": {},
     "output_type": "execute_result"
    }
   ],
   "source": [
    "cv2.imread('/sr_project/HAT/results/HAT_SRx4_ImageNet-LR/visualization/custom/0_0_HAT_SRx4_ImageNet-LR.jpg').shape"
   ]
  },
  {
   "cell_type": "code",
   "execution_count": 4,
   "id": "46aa6fb3",
   "metadata": {},
   "outputs": [
    {
     "data": {
      "text/plain": [
       "(480, 856, 3)"
      ]
     },
     "execution_count": 4,
     "metadata": {},
     "output_type": "execute_result"
    }
   ],
   "source": [
    "cv2.imread('/sr_project/data/dataset/test/hr/8/0.png').shape"
   ]
  },
  {
   "cell_type": "code",
   "execution_count": 26,
   "id": "88b6c559",
   "metadata": {},
   "outputs": [],
   "source": [
    "TARGET_SIZE = (856, 480)"
   ]
  },
  {
   "cell_type": "code",
   "execution_count": 619,
   "id": "18385e51",
   "metadata": {},
   "outputs": [],
   "source": [
    "images = sorted(glob.glob(os.path.join(image_folder, '130*')), key=lambda s: int(s.split('/')[-1].split('_')[1]))"
   ]
  },
  {
   "cell_type": "code",
   "execution_count": 620,
   "id": "2a48c8a3",
   "metadata": {
    "scrolled": true
   },
   "outputs": [
    {
     "data": {
      "text/plain": [
       "3000"
      ]
     },
     "execution_count": 620,
     "metadata": {},
     "output_type": "execute_result"
    }
   ],
   "source": [
    "len(images)"
   ]
  },
  {
   "cell_type": "code",
   "execution_count": 621,
   "id": "1af5cb3c",
   "metadata": {},
   "outputs": [],
   "source": [
    "fourcc = cv2.VideoWriter_fourcc(*'DIVX')"
   ]
  },
  {
   "cell_type": "code",
   "execution_count": 622,
   "id": "3b1dc447",
   "metadata": {},
   "outputs": [
    {
     "data": {
      "text/plain": [
       "1482049860"
      ]
     },
     "execution_count": 622,
     "metadata": {},
     "output_type": "execute_result"
    }
   ],
   "source": [
    "fourcc"
   ]
  },
  {
   "cell_type": "code",
   "execution_count": 623,
   "id": "0b10daf0",
   "metadata": {},
   "outputs": [],
   "source": [
    "fps = len(images) / 120"
   ]
  },
  {
   "cell_type": "code",
   "execution_count": 624,
   "id": "a0a5f873",
   "metadata": {},
   "outputs": [],
   "source": [
    "video_name = '/sr_project/data/test/upscale_videos/130_res.avi'"
   ]
  },
  {
   "cell_type": "code",
   "execution_count": 625,
   "id": "d1ec1adb",
   "metadata": {},
   "outputs": [
    {
     "name": "stderr",
     "output_type": "stream",
     "text": [
      "100%|████████████████████████████████████████████████████████████████████████████████████████████████████████████████████████████████████████████████████████████████| 3000/3000 [00:27<00:00, 110.05it/s]\n"
     ]
    }
   ],
   "source": [
    "frame = cv2.imread(images[0])\n",
    "frame = cv2.resize(frame, TARGET_SIZE)\n",
    "\n",
    "height, width, layers = frame.shape\n",
    "\n",
    "video = cv2.VideoWriter(video_name,  fourcc, fps, (width,height))\n",
    "\n",
    "for image in tqdm(images):\n",
    "    image_cv2 = cv2.imread(image)\n",
    "    image_cv2 = cv2.resize(image_cv2, TARGET_SIZE)\n",
    "    video.write(image_cv2)"
   ]
  },
  {
   "cell_type": "code",
   "execution_count": 626,
   "id": "32f2c296",
   "metadata": {},
   "outputs": [
    {
     "name": "stderr",
     "output_type": "stream",
     "text": [
      "ffmpeg version 4.2.7-0ubuntu0.1 Copyright (c) 2000-2022 the FFmpeg developers\n",
      "  built with gcc 9 (Ubuntu 9.4.0-1ubuntu1~20.04.1)\n",
      "  configuration: --prefix=/usr --extra-version=0ubuntu0.1 --toolchain=hardened --libdir=/usr/lib/x86_64-linux-gnu --incdir=/usr/include/x86_64-linux-gnu --arch=amd64 --enable-gpl --disable-stripping --enable-avresample --disable-filter=resample --enable-avisynth --enable-gnutls --enable-ladspa --enable-libaom --enable-libass --enable-libbluray --enable-libbs2b --enable-libcaca --enable-libcdio --enable-libcodec2 --enable-libflite --enable-libfontconfig --enable-libfreetype --enable-libfribidi --enable-libgme --enable-libgsm --enable-libjack --enable-libmp3lame --enable-libmysofa --enable-libopenjpeg --enable-libopenmpt --enable-libopus --enable-libpulse --enable-librsvg --enable-librubberband --enable-libshine --enable-libsnappy --enable-libsoxr --enable-libspeex --enable-libssh --enable-libtheora --enable-libtwolame --enable-libvidstab --enable-libvorbis --enable-libvpx --enable-libwavpack --enable-libwebp --enable-libx265 --enable-libxml2 --enable-libxvid --enable-libzmq --enable-libzvbi --enable-lv2 --enable-omx --enable-openal --enable-opencl --enable-opengl --enable-sdl2 --enable-libdc1394 --enable-libdrm --enable-libiec61883 --enable-nvenc --enable-chromaprint --enable-frei0r --enable-libx264 --enable-shared\n",
      "  libavutil      56. 31.100 / 56. 31.100\n",
      "  libavcodec     58. 54.100 / 58. 54.100\n",
      "  libavformat    58. 29.100 / 58. 29.100\n",
      "  libavdevice    58.  8.100 / 58.  8.100\n",
      "  libavfilter     7. 57.100 /  7. 57.100\n",
      "  libavresample   4.  0.  0 /  4.  0.  0\n",
      "  libswscale      5.  5.100 /  5.  5.100\n",
      "  libswresample   3.  5.100 /  3.  5.100\n",
      "  libpostproc    55.  5.100 / 55.  5.100\n",
      "Input #0, avi, from '/sr_project/data/test/upscale_videos/130_res.avi':\n",
      "  Metadata:\n",
      "    encoder         : Lavf58.76.100\n",
      "  Duration: N/A, start: 0.000000, bitrate: N/A\n",
      "    Stream #0:0: Video: mpeg4 (Simple Profile) (DIVX / 0x58564944), yuv420p, 856x480 [SAR 1:1 DAR 107:60], 25 fps, 25 tbr, 25 tbn, 25 tbc\n",
      "Stream mapping:\n",
      "  Stream #0:0 -> #0:0 (mpeg4 (native) -> h264 (libx264))\n",
      "Press [q] to stop, [?] for help\n",
      "[libx264 @ 0x55712e9a5400] using SAR=1/1\n",
      "[libx264 @ 0x55712e9a5400] using cpu capabilities: MMX2 SSE2Fast SSSE3 SSE4.2 AVX FMA3 BMI2 AVX2 AVX512\n",
      "[libx264 @ 0x55712e9a5400] profile High, level 3.0\n",
      "[libx264 @ 0x55712e9a5400] 264 - core 155 r2917 0a84d98 - H.264/MPEG-4 AVC codec - Copyleft 2003-2018 - http://www.videolan.org/x264.html - options: cabac=1 ref=3 deblock=1:0:0 analyse=0x3:0x113 me=hex subme=7 psy=1 psy_rd=1.00:0.00 mixed_ref=1 me_range=16 chroma_me=1 trellis=1 8x8dct=1 cqm=0 deadzone=21,11 fast_pskip=1 chroma_qp_offset=-2 threads=15 lookahead_threads=2 sliced_threads=0 nr=0 decimate=1 interlaced=0 bluray_compat=0 constrained_intra=0 bframes=0 weightp=2 keyint=250 keyint_min=25 scenecut=40 intra_refresh=0 rc_lookahead=40 rc=abr mbtree=1 bitrate=2000 ratetol=1.0 qcomp=0.60 qpmin=0 qpmax=69 qpstep=4 ip_ratio=1.40 aq=1:1.00\n",
      "Output #0, mp4, to '/sr_project/data/test/upscale_videos/130_res.mp4':\n",
      "  Metadata:\n",
      "    encoder         : Lavf58.29.100\n",
      "    Stream #0:0: Video: h264 (libx264) (avc1 / 0x31637661), yuv420p, 856x480 [SAR 1:1 DAR 107:60], q=-1--1, 2000 kb/s, 25 fps, 12800 tbn, 25 tbc\n",
      "    Metadata:\n",
      "      encoder         : Lavc58.54.100 libx264\n",
      "    Side data:\n",
      "      cpb: bitrate max/min/avg: 0/0/2000000 buffer size: 0 vbv_delay: -1\n",
      "[mpeg4 @ 0x55712ea1a140] ac-tex damaged at 39 1900:01:53.28 bitrate=2054.9kbits/s speed=7.94x    \n",
      "[mpeg4 @ 0x55712ea1a140] Error at MB: 1084\n",
      "[mpeg4 @ 0x55712ea1a140] concealing 614 DC, 614 AC, 614 MV errors in P frame\n",
      "/sr_project/data/test/upscale_videos/130_res.avi: corrupt decoded frame in stream 0\n",
      "frame= 2976 fps=199 q=-1.0 Lsize=   29799kB time=00:01:59.00 bitrate=2051.4kbits/s speed=7.96x    \n",
      "video:29786kB audio:0kB subtitle:0kB other streams:0kB global headers:0kB muxing overhead: 0.043552%\n",
      "[libx264 @ 0x55712e9a5400] frame I:25    Avg QP: 8.87  size: 50168\n",
      "[libx264 @ 0x55712e9a5400] frame P:2951  Avg QP:11.78  size:  9911\n",
      "[libx264 @ 0x55712e9a5400] mb I  I16..4: 16.5% 71.6% 11.8%\n",
      "[libx264 @ 0x55712e9a5400] mb P  I16..4:  1.4%  5.1%  0.8%  P16..4: 36.9% 16.4% 12.3%  0.0%  0.0%    skip:27.1%\n",
      "[libx264 @ 0x55712e9a5400] final ratefactor: 13.17\n",
      "[libx264 @ 0x55712e9a5400] 8x8 transform intra:70.7% inter:70.1%\n",
      "[libx264 @ 0x55712e9a5400] coded y,uvDC,uvAC intra: 58.7% 68.6% 32.1% inter: 25.5% 23.7% 6.8%\n",
      "[libx264 @ 0x55712e9a5400] i16 v,h,dc,p: 43% 27% 26%  4%\n",
      "[libx264 @ 0x55712e9a5400] i8 v,h,dc,ddl,ddr,vr,hd,vl,hu: 24% 26% 34%  3%  2%  3%  2%  3%  3%\n",
      "[libx264 @ 0x55712e9a5400] i4 v,h,dc,ddl,ddr,vr,hd,vl,hu: 31% 30% 12%  4%  5%  5%  5%  4%  4%\n",
      "[libx264 @ 0x55712e9a5400] i8c dc,h,v,p: 42% 25% 26%  7%\n",
      "[libx264 @ 0x55712e9a5400] Weighted P-Frames: Y:0.0% UV:0.0%\n",
      "[libx264 @ 0x55712e9a5400] ref P L0: 81.3%  7.4%  9.0%  2.3%\n",
      "[libx264 @ 0x55712e9a5400] kb/s:2049.78\n"
     ]
    },
    {
     "data": {
      "text/plain": [
       "0"
      ]
     },
     "execution_count": 626,
     "metadata": {},
     "output_type": "execute_result"
    }
   ],
   "source": [
    "os.system(f\"ffmpeg -i '{video_name}' -ac 2 -b:v 2000k -c:a aac -c:v libx264 -b:a 160k -vprofile high -bf 0 -strict experimental -f mp4 '{video_name.replace('avi', 'mp4')}' -y\")"
   ]
  },
  {
   "cell_type": "code",
   "execution_count": 39,
   "id": "edfde3cc",
   "metadata": {},
   "outputs": [],
   "source": [
    "cv2.VideoWriter?"
   ]
  },
  {
   "cell_type": "code",
   "execution_count": 289,
   "id": "feb24565",
   "metadata": {},
   "outputs": [
    {
     "data": {
      "text/plain": [
       "5.0"
      ]
     },
     "execution_count": 289,
     "metadata": {},
     "output_type": "execute_result"
    }
   ],
   "source": [
    "3000 / 600"
   ]
  },
  {
   "cell_type": "code",
   "execution_count": null,
   "id": "0c1222f2",
   "metadata": {},
   "outputs": [],
   "source": []
  }
 ],
 "metadata": {
  "kernelspec": {
   "display_name": "Python 3 (ipykernel)",
   "language": "python",
   "name": "python3"
  },
  "language_info": {
   "codemirror_mode": {
    "name": "ipython",
    "version": 3
   },
   "file_extension": ".py",
   "mimetype": "text/x-python",
   "name": "python",
   "nbconvert_exporter": "python",
   "pygments_lexer": "ipython3",
   "version": "3.8.10"
  }
 },
 "nbformat": 4,
 "nbformat_minor": 5
}
