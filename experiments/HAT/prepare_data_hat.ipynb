{
 "cells": [
  {
   "cell_type": "code",
   "execution_count": 42,
   "id": "e306dd78",
   "metadata": {},
   "outputs": [],
   "source": [
    "import cv2\n",
    "import matplotlib.pyplot as plt\n",
    "import os\n",
    "import shutil\n",
    "import glob\n",
    "from tqdm import tqdm"
   ]
  },
  {
   "cell_type": "code",
   "execution_count": 36,
   "id": "d29161f7",
   "metadata": {},
   "outputs": [],
   "source": [
    "# hr_im_save_path = '/sr_project/HAT/datasets/train/hr'\n",
    "# lr_im_save_path = '/sr_project/HAT/datasets/train/lr'\n",
    "\n",
    "# for hr_im, lr_im in zip(hr_train_demo, lr_train_demo):\n",
    "#     hr_im_cv2 = cv2.imread(hr_im)\n",
    "#     lr_im_cv2 = cv2.imread(lr_im)\n",
    "    \n",
    "#     h, w, _ = hr_im_cv2.shape\n",
    "#     lr_im_resized = cv2.resize(lr_im_cv2, (w // 4, h // 4))\n",
    "    \n",
    "#     vid_idx, image_name = hr_im.split('/')[-2:]\n",
    "#     cv2.imwrite(os.path.join(hr_im_save_path, f'{vid_idx}_{image_name}'), hr_im_cv2)\n",
    "#     cv2.imwrite(os.path.join(lr_im_save_path, f'{vid_idx}_{image_name}'), lr_im_resized)"
   ]
  },
  {
   "cell_type": "code",
   "execution_count": 62,
   "id": "53f06e3e",
   "metadata": {},
   "outputs": [],
   "source": [
    "test_videos_lr = sorted(glob.glob('/sr_project/data/videos/test/lr/*.mp4')) \n",
    "test_videos_hr = sorted(glob.glob('/sr_project/data/videos/test/hr/*.mp4')) "
   ]
  },
  {
   "cell_type": "code",
   "execution_count": 63,
   "id": "a61983cd",
   "metadata": {},
   "outputs": [
    {
     "data": {
      "text/plain": [
       "(200, 200)"
      ]
     },
     "execution_count": 63,
     "metadata": {},
     "output_type": "execute_result"
    }
   ],
   "source": [
    "len(test_videos_hr), len(test_videos_lr)"
   ]
  },
  {
   "cell_type": "code",
   "execution_count": 78,
   "id": "7ad920e0",
   "metadata": {},
   "outputs": [],
   "source": [
    "train_videos_lr = sorted(glob.glob('/sr_project/data/videos/train/lr/*.mp4')) \n",
    "train_videos_hr = sorted(glob.glob('/sr_project/data/videos/train/hr/*.mp4'))"
   ]
  },
  {
   "cell_type": "code",
   "execution_count": 79,
   "id": "3510fbee",
   "metadata": {},
   "outputs": [
    {
     "data": {
      "text/plain": [
       "(800, 800)"
      ]
     },
     "execution_count": 79,
     "metadata": {},
     "output_type": "execute_result"
    }
   ],
   "source": [
    "len(train_videos_hr), len(train_videos_lr)"
   ]
  },
  {
   "cell_type": "code",
   "execution_count": 80,
   "id": "b77463dd",
   "metadata": {},
   "outputs": [],
   "source": [
    "def cut_frames_from_videos(videos_list, target_dir):\n",
    "    \n",
    "    for vid in tqdm(videos_list):\n",
    "        cap = cv2.VideoCapture(vid)\n",
    "        cap_len = int(cap.get(cv2.CAP_PROP_FRAME_COUNT))\n",
    "        if cap_len == 0:\n",
    "            break\n",
    "        \n",
    "        i = 0\n",
    "        \n",
    "        while True:\n",
    "            success, frame = cap.read()\n",
    "            if i % 250 != 0:\n",
    "                i += 1\n",
    "                continue\n",
    "            if not success:\n",
    "                break\n",
    "            vid_name = vid.split('/')[-1].split('_')[0]\n",
    "            save_path = os.path.join(target_dir, f'{vid_name}_{i}.jpg')\n",
    "            cv2.imwrite(save_path, frame)\n",
    "            i += 1"
   ]
  },
  {
   "cell_type": "code",
   "execution_count": 65,
   "id": "6fe9a9e7",
   "metadata": {},
   "outputs": [
    {
     "name": "stderr",
     "output_type": "stream",
     "text": [
      "100%|███████████████████████████████████████████████████████████████████████████████████████████████████████████████████████████████████████████████████████████████████| 200/200 [00:56<00:00,  3.52it/s]\n"
     ]
    }
   ],
   "source": [
    "cut_frames_from_videos(test_videos_lr, '/sr_project/HAT/datasets/test/lr')"
   ]
  },
  {
   "cell_type": "code",
   "execution_count": 51,
   "id": "57344b42",
   "metadata": {
    "scrolled": true
   },
   "outputs": [
    {
     "name": "stderr",
     "output_type": "stream",
     "text": [
      "100%|███████████████████████████████████████████████████████████████████████████████████████████████████████████████████████████████████████████████████████████████████| 200/200 [04:11<00:00,  1.26s/it]\n"
     ]
    }
   ],
   "source": [
    "cut_frames_from_videos(test_videos_hr, '/sr_project/HAT/datasets/test/hr')"
   ]
  },
  {
   "cell_type": "code",
   "execution_count": 81,
   "id": "3c66de84",
   "metadata": {
    "scrolled": true
   },
   "outputs": [
    {
     "name": "stderr",
     "output_type": "stream",
     "text": [
      "100%|███████████████████████████████████████████████████████████████████████████████████████████████████████████████████████████████████████████████████████████████████| 800/800 [03:54<00:00,  3.41it/s]\n"
     ]
    }
   ],
   "source": [
    "cut_frames_from_videos(train_videos_lr, '/sr_project/HAT/datasets/train/lr')"
   ]
  },
  {
   "cell_type": "code",
   "execution_count": 82,
   "id": "435487d0",
   "metadata": {},
   "outputs": [
    {
     "name": "stderr",
     "output_type": "stream",
     "text": [
      "100%|███████████████████████████████████████████████████████████████████████████████████████████████████████████████████████████████████████████████████████████████████| 800/800 [17:25<00:00,  1.31s/it]\n"
     ]
    }
   ],
   "source": [
    "cut_frames_from_videos(train_videos_hr, '/sr_project/HAT/datasets/train/hr')"
   ]
  },
  {
   "cell_type": "code",
   "execution_count": 83,
   "id": "258a049c",
   "metadata": {},
   "outputs": [],
   "source": [
    "images_hr = sorted(glob.glob('/sr_project/HAT/datasets/train/hr/*.jpg'))\n",
    "images_lr = sorted(glob.glob('/sr_project/HAT/datasets/train/lr/*.jpg'))"
   ]
  },
  {
   "cell_type": "code",
   "execution_count": 84,
   "id": "4f7cbaaf",
   "metadata": {},
   "outputs": [
    {
     "data": {
      "text/plain": [
       "(9932, 9932)"
      ]
     },
     "execution_count": 84,
     "metadata": {},
     "output_type": "execute_result"
    }
   ],
   "source": [
    "len(images_hr), len(images_lr)"
   ]
  },
  {
   "cell_type": "code",
   "execution_count": 85,
   "id": "4f8552a8",
   "metadata": {},
   "outputs": [
    {
     "name": "stderr",
     "output_type": "stream",
     "text": [
      "9932it [01:01, 160.66it/s]\n"
     ]
    }
   ],
   "source": [
    "for im_hr, im_lr in tqdm(zip(images_hr, images_lr)):\n",
    "    hr_im_cv2 = cv2.imread(im_hr)\n",
    "    lr_im_cv2 = cv2.imread(im_lr)\n",
    "    h, w, _ = hr_im_cv2.shape\n",
    "    lr_im_resized = cv2.resize(lr_im_cv2, (w // 4, h // 4))\n",
    "    cv2.imwrite(im_lr, lr_im_resized)"
   ]
  },
  {
   "cell_type": "code",
   "execution_count": 52,
   "id": "9c82edc3",
   "metadata": {},
   "outputs": [
    {
     "data": {
      "text/plain": [
       "'/sr_project/data/dataset/test/lr/8/9.png'"
      ]
     },
     "execution_count": 52,
     "metadata": {},
     "output_type": "execute_result"
    }
   ],
   "source": [
    "lr_im"
   ]
  },
  {
   "cell_type": "code",
   "execution_count": null,
   "id": "1d93b616",
   "metadata": {},
   "outputs": [],
   "source": []
  }
 ],
 "metadata": {
  "kernelspec": {
   "display_name": "Python 3 (ipykernel)",
   "language": "python",
   "name": "python3"
  },
  "language_info": {
   "codemirror_mode": {
    "name": "ipython",
    "version": 3
   },
   "file_extension": ".py",
   "mimetype": "text/x-python",
   "name": "python",
   "nbconvert_exporter": "python",
   "pygments_lexer": "ipython3",
   "version": "3.8.10"
  }
 },
 "nbformat": 4,
 "nbformat_minor": 5
}
