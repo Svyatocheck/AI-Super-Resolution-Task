{
 "cells": [
  {
   "cell_type": "code",
   "execution_count": 11,
   "id": "1507d65b",
   "metadata": {},
   "outputs": [],
   "source": [
    "import torch\n",
    "import basicsr\n",
    "from HAT.hat.models.hat_model import HATModel\n",
    "from yaml import safe_load"
   ]
  },
  {
   "cell_type": "code",
   "execution_count": 20,
   "id": "8d37439a",
   "metadata": {},
   "outputs": [],
   "source": [
    "opt_path = '/sr_project/HAT/options/test/HAT_SRx4_ImageNet-LR.yml'\n",
    "with open(opt_path, 'r') as f:\n",
    "    opt = safe_load(f)"
   ]
  },
  {
   "cell_type": "code",
   "execution_count": 21,
   "id": "3ede783c",
   "metadata": {},
   "outputs": [],
   "source": [
    "model = HATModel(opt)"
   ]
  },
  {
   "cell_type": "code",
   "execution_count": 26,
   "id": "b1cf8a99",
   "metadata": {},
   "outputs": [
    {
     "data": {
      "text/plain": [
       "['__class__',\n",
       " '__delattr__',\n",
       " '__dict__',\n",
       " '__dir__',\n",
       " '__doc__',\n",
       " '__eq__',\n",
       " '__format__',\n",
       " '__ge__',\n",
       " '__getattribute__',\n",
       " '__gt__',\n",
       " '__hash__',\n",
       " '__init__',\n",
       " '__init_subclass__',\n",
       " '__le__',\n",
       " '__lt__',\n",
       " '__module__',\n",
       " '__ne__',\n",
       " '__new__',\n",
       " '__reduce__',\n",
       " '__reduce_ex__',\n",
       " '__repr__',\n",
       " '__setattr__',\n",
       " '__sizeof__',\n",
       " '__str__',\n",
       " '__subclasshook__',\n",
       " '__weakref__',\n",
       " '_get_init_lr',\n",
       " '_initialize_best_metric_results',\n",
       " '_log_validation_metric_values',\n",
       " '_print_different_keys_loading',\n",
       " '_set_lr',\n",
       " '_update_best_metric_result',\n",
       " 'device',\n",
       " 'dist_validation',\n",
       " 'feed_data',\n",
       " 'get_bare_model',\n",
       " 'get_current_learning_rate',\n",
       " 'get_current_log',\n",
       " 'get_current_visuals',\n",
       " 'get_optimizer',\n",
       " 'init_training_settings',\n",
       " 'is_train',\n",
       " 'load_network',\n",
       " 'model_ema',\n",
       " 'model_to_device',\n",
       " 'net_g',\n",
       " 'nondist_validation',\n",
       " 'opt',\n",
       " 'optimize_parameters',\n",
       " 'optimizers',\n",
       " 'post_process',\n",
       " 'pre_process',\n",
       " 'print_network',\n",
       " 'process',\n",
       " 'reduce_loss_dict',\n",
       " 'resume_training',\n",
       " 'save',\n",
       " 'save_network',\n",
       " 'save_training_state',\n",
       " 'schedulers',\n",
       " 'setup_optimizers',\n",
       " 'setup_schedulers',\n",
       " 'test',\n",
       " 'tile_process',\n",
       " 'update_learning_rate',\n",
       " 'validation']"
      ]
     },
     "execution_count": 26,
     "metadata": {},
     "output_type": "execute_result"
    }
   ],
   "source": [
    "dir(model)"
   ]
  },
  {
   "cell_type": "code",
   "execution_count": null,
   "id": "467dbe76",
   "metadata": {},
   "outputs": [],
   "source": []
  }
 ],
 "metadata": {
  "kernelspec": {
   "display_name": "Python 3 (ipykernel)",
   "language": "python",
   "name": "python3"
  },
  "language_info": {
   "codemirror_mode": {
    "name": "ipython",
    "version": 3
   },
   "file_extension": ".py",
   "mimetype": "text/x-python",
   "name": "python",
   "nbconvert_exporter": "python",
   "pygments_lexer": "ipython3",
   "version": "3.8.10"
  }
 },
 "nbformat": 4,
 "nbformat_minor": 5
}
