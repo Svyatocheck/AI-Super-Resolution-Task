{
 "cells": [
  {
   "cell_type": "code",
   "execution_count": 7,
   "id": "f12d8130",
   "metadata": {},
   "outputs": [],
   "source": [
    "import cv2\n",
    "import glob\n",
    "from tqdm import tqdm\n",
    "import os"
   ]
  },
  {
   "cell_type": "code",
   "execution_count": 14,
   "id": "184de79e",
   "metadata": {},
   "outputs": [],
   "source": [
    "videos = sorted(glob.glob('/sr_project/data/test/videos/*.mp4'))"
   ]
  },
  {
   "cell_type": "code",
   "execution_count": 15,
   "id": "24914a90",
   "metadata": {},
   "outputs": [],
   "source": [
    "IMG_PATH = '/sr_project/data/test/images'"
   ]
  },
  {
   "cell_type": "code",
   "execution_count": 16,
   "id": "602e0dca",
   "metadata": {},
   "outputs": [
    {
     "name": "stderr",
     "output_type": "stream",
     "text": [
      "100%|███████████████████████████████████████████████████████████████████████████████████████████████████████████████████████████████████████████████████████████████████| 200/200 [08:05<00:00,  2.43s/it]\n"
     ]
    }
   ],
   "source": [
    "cap_lens = []\n",
    "\n",
    "for vid in tqdm(videos):\n",
    "    cap = cv2.VideoCapture(vid)\n",
    "    cap_len = int(cap.get(cv2.CAP_PROP_FRAME_COUNT))\n",
    "    cap_lens.append(cap_len)\n",
    "    if cap_len == 0:\n",
    "        print(f'{vid}: Reading Error')\n",
    "        break\n",
    "    \n",
    "    frame_idx = 0\n",
    "    \n",
    "    while True:\n",
    "        success, frame = cap.read()\n",
    "        if not success:\n",
    "            break\n",
    "            \n",
    "        img_name = vid.split('/')[-1].split('_')[0]\n",
    "        save_path = os.path.join(IMG_PATH, f'{img_name}_{frame_idx}.jpg')\n",
    "        cv2.imwrite(save_path, frame)\n",
    "        frame_idx += 1"
   ]
  },
  {
   "cell_type": "code",
   "execution_count": 17,
   "id": "3577d873",
   "metadata": {},
   "outputs": [],
   "source": [
    "images = glob.glob(f'{IMG_PATH}/*jpg')"
   ]
  },
  {
   "cell_type": "code",
   "execution_count": 22,
   "id": "eb674e1b",
   "metadata": {},
   "outputs": [
    {
     "ename": "NameError",
     "evalue": "name 'images' is not defined",
     "output_type": "error",
     "traceback": [
      "\u001b[0;31m---------------------------------------------------------------------------\u001b[0m",
      "\u001b[0;31mNameError\u001b[0m                                 Traceback (most recent call last)",
      "Cell \u001b[0;32mIn[22], line 1\u001b[0m\n\u001b[0;32m----> 1\u001b[0m \u001b[38;5;28mlen\u001b[39m(\u001b[43mimages\u001b[49m)\n",
      "\u001b[0;31mNameError\u001b[0m: name 'images' is not defined"
     ]
    }
   ],
   "source": [
    "len(images)"
   ]
  },
  {
   "cell_type": "code",
   "execution_count": null,
   "id": "08999227",
   "metadata": {},
   "outputs": [],
   "source": []
  }
 ],
 "metadata": {
  "kernelspec": {
   "display_name": "Python 3 (ipykernel)",
   "language": "python",
   "name": "python3"
  },
  "language_info": {
   "codemirror_mode": {
    "name": "ipython",
    "version": 3
   },
   "file_extension": ".py",
   "mimetype": "text/x-python",
   "name": "python",
   "nbconvert_exporter": "python",
   "pygments_lexer": "ipython3",
   "version": "3.8.10"
  }
 },
 "nbformat": 4,
 "nbformat_minor": 5
}
