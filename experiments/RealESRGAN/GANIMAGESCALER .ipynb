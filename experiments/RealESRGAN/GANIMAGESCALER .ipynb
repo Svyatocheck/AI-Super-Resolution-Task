{
  "nbformat": 4,
  "nbformat_minor": 0,
  "metadata": {
    "colab": {
      "provenance": [],
      "gpuType": "T4"
    },
    "kernelspec": {
      "name": "python3",
      "display_name": "Python 3"
    },
    "language_info": {
      "name": "python"
    },
    "accelerator": "GPU"
  },
  "cells": [
    {
      "cell_type": "markdown",
      "source": [
        "### Модель [RealESRGAN](https://github.com/xinntao/Real-ESRGAN)"
      ],
      "metadata": {
        "id": "2XYVeWXyIk0h"
      }
    },
    {
      "cell_type": "markdown",
      "source": [
        "#### Установка зависимостей"
      ],
      "metadata": {
        "id": "AIF3oa-sJN9-"
      }
    },
    {
      "cell_type": "code",
      "source": [
        "!git clone https://github.com/xinntao/Real-ESRGAN.git\n",
        "%cd Real-ESRGAN\n",
        "!pip install basicsr\n",
        "!pip install facexlib\n",
        "!pip install gfpgan\n",
        "!pip install -r requirements.txt\n",
        "!python setup.py develop"
      ],
      "metadata": {
        "id": "hDYvjm2PIq9O"
      },
      "execution_count": null,
      "outputs": []
    },
    {
      "cell_type": "code",
      "source": [
        "from tqdm import tqdm\n",
        "import os\n",
        "from google.colab import files\n",
        "from posix import O_SYNC\n",
        "import shutil\n",
        "import cv2"
      ],
      "metadata": {
        "id": "SrzBBZ-6vVtP"
      },
      "execution_count": null,
      "outputs": []
    },
    {
      "cell_type": "code",
      "source": [
        "def cut_frames_from_videos(videos_list: list[str], target_dir: str) -> None:\n",
        "  '''\n",
        "  Функция для кадрирования видео\n",
        "\n",
        "  Input:\n",
        "  videos_list - лист с путем до видео\n",
        "  target_dir - директория сохранения изображаний\n",
        "\n",
        "\n",
        "  '''\n",
        "    for vid in tqdm(videos_list):\n",
        "        cap = cv2.VideoCapture(vid)\n",
        "        cap_len = int(cap.get(cv2.CAP_PROP_FRAME_COUNT))\n",
        "        if cap_len == 0:\n",
        "            break\n",
        "        i = 0\n",
        "        while True:\n",
        "            success, frame = cap.read()\n",
        "            if i % 1 != 0:\n",
        "                i += 1\n",
        "                continue\n",
        "            if not success:\n",
        "                break\n",
        "            vid_name = vid.split('/')[-1].split('_')[0]\n",
        "            save_path = os.path.join(target_dir, f'{vid_name}_{i}.jpg')\n",
        "            cv2.imwrite(save_path, frame)\n",
        "            i += 1"
      ],
      "metadata": {
        "id": "eDPungwrvSkF"
      },
      "execution_count": null,
      "outputs": []
    },
    {
      "cell_type": "code",
      "source": [
        "upload_folder = 'upload'\n",
        "result_folder = 'results'\n",
        "\n",
        "if os.path.isdir(upload_folder):\n",
        "    shutil.rmtree(upload_folder)\n",
        "if os.path.isdir(result_folder):\n",
        "    shutil.rmtree(result_folder)\n",
        "os.mkdir(upload_folder)\n",
        "os.mkdir(result_folder)"
      ],
      "metadata": {
        "id": "s6pZGzwGvkLP"
      },
      "execution_count": null,
      "outputs": []
    },
    {
      "cell_type": "code",
      "source": [
        "TARGET_DIR = '/content/Real-ESRGAN/upload'\n",
        "if os.path.exists(TARGET_DIR):\n",
        "  shutil.rmtree(TARGET_DIR)\n",
        "  os.mkdir(TARGET_DIR)\n",
        "else:\n",
        "  os.mkdir(TARGET_DIR)\n",
        "cut_frames_from_videos(['/content/0_144 (1).mp4'], TARGET_DIR)"
      ],
      "metadata": {
        "colab": {
          "base_uri": "https://localhost:8080/"
        },
        "id": "mjqNB8ZkvoNl",
        "outputId": "40e2bc6d-898a-4164-fb5d-d2d4d454b7e2"
      },
      "execution_count": null,
      "outputs": [
        {
          "output_type": "stream",
          "name": "stderr",
          "text": [
            "100%|██████████| 1/1 [00:04<00:00,  4.61s/it]\n"
          ]
        }
      ]
    },
    {
      "cell_type": "code",
      "source": [
        "len(os.listdir(path=TARGET_DIR))"
      ],
      "metadata": {
        "colab": {
          "base_uri": "https://localhost:8080/"
        },
        "id": "kEma-GwNyAJY",
        "outputId": "ce5ffaef-5c99-4e1e-d8ef-d87342adc32b"
      },
      "execution_count": null,
      "outputs": [
        {
          "output_type": "execute_result",
          "data": {
            "text/plain": [
              "3600"
            ]
          },
          "metadata": {},
          "execution_count": 10
        }
      ]
    },
    {
      "cell_type": "markdown",
      "source": [
        "### Inference"
      ],
      "metadata": {
        "id": "55uhCdvRJCC2"
      }
    },
    {
      "cell_type": "code",
      "source": [
        "!python inference_realesrgan.py -n RealESRGAN_x4plus -i upload --outscale 3.5 --face_enhance"
      ],
      "metadata": {
        "id": "bXA1fAYCwYdi"
      },
      "execution_count": null,
      "outputs": []
    },
    {
      "cell_type": "code",
      "source": [
        "import cv2\n",
        "import os\n",
        "\n",
        "image_folder = '/content/Real-ESRGAN/results'\n",
        "video_name = 'video.avi'\n",
        "\n",
        "images = [img for img in os.listdir(image_folder) if img.endswith(\".jpg\")]\n",
        "frame = cv2.imread(os.path.join(image_folder, images[0]))\n",
        "height, width, layers = frame.shape\n",
        "\n",
        "video = cv2.VideoWriter(video_name, 0, 1, (width,height))\n",
        "\n",
        "for image in images:\n",
        "    video.write(cv2.imread(os.path.join(image_folder, image)))\n",
        "\n",
        "cv2.destroyAllWindows()\n",
        "video.release()"
      ],
      "metadata": {
        "id": "AYnj5X_AxTFI"
      },
      "execution_count": null,
      "outputs": []
    },
    {
      "cell_type": "markdown",
      "source": [
        "### Запуск видео"
      ],
      "metadata": {
        "id": "8NMg6V_iJFNa"
      }
    },
    {
      "cell_type": "code",
      "source": [
        "from IPython.display import HTML\n",
        "from base64 import b64encode\n",
        "import os\n",
        "\n",
        "# Input video path\n",
        "save_path = \"/content/Real-ESRGAN/video_1.avi\"\n",
        "\n",
        "# Compressed video path\n",
        "compressed_path = \"/content/Real-ESRGAN/video.avi\"\n",
        "\n",
        "os.system(f\"ffmpeg -i {save_path} -vcodec libx264 {compressed_path}\")\n",
        "\n",
        "# Show video\n",
        "mp4 = open(compressed_path,'rb').read()\n",
        "data_url = \"data:video/mp4;base64,\" + b64encode(mp4).decode()\n",
        "HTML(\"\"\"\n",
        "<video width=400 controls>\n",
        "      <source src=\"%s\" type=\"video/mp4\">\n",
        "</video>\n",
        "\"\"\" % data_url)"
      ],
      "metadata": {
        "id": "xSeJlt351vtT"
      },
      "execution_count": null,
      "outputs": []
    }
  ]
}